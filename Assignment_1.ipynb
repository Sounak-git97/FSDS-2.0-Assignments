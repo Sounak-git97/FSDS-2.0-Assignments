{
 "cells": [
  {
   "cell_type": "markdown",
   "id": "47723a1b",
   "metadata": {},
   "source": [
    "### 1. In the below elements which of them are values or an expression? eg:- values can be\n",
    "### integer or string and expressions will be mathematical operators.\n",
    "\n",
    "Ans: OPERATORS are *,-,/,+ EXPRESSIONS are \"hello\", 87.8,6"
   ]
  },
  {
   "cell_type": "markdown",
   "id": "30f97999",
   "metadata": {},
   "source": [
    "### 2. What is the difference between string and variable?\n",
    "\n",
    "Ans: A variable is used to store values and Stringsvis a type of information that you store in variable we can represent string in python like this in double quotes\" \" or single quots' '"
   ]
  },
  {
   "cell_type": "markdown",
   "id": "11250e21",
   "metadata": {},
   "source": [
    "### 3. Describe three different data types.\n",
    "\n",
    "Ans: INT DATA TYPE: we can use to represent whole number called integar value\n",
    "FLOAT DATA TYPE: we use this data type to represent floting point value like(5.4 this is floting number)\n",
    "BOOL DATA TYPE: this data type give you bool value like(True,False)"
   ]
  },
  {
   "cell_type": "markdown",
   "id": "9ab977a6",
   "metadata": {},
   "source": [
    "### 4. What is an expression made up of? What do all expressions do?\n",
    "\n",
    "Ans: Expression is a combination of vallues, operators,and calls to functions expression need to be evaluated.if we ask python to print an expression the interpreter give the expression and display the result."
   ]
  },
  {
   "cell_type": "markdown",
   "id": "40d9c61f",
   "metadata": {},
   "source": [
    "### 5. This assignment statements, like spam = 10. What is the difference between an expression and a statement?\n",
    "\n",
    "Ans: An expression is a combination of values, variables, and operators.When we type an expression at the prompt, the interpreter give it which means that it finds the value of the expression variable declaration and assignment are statements because they do not return a value."
   ]
  },
  {
   "cell_type": "markdown",
   "id": "080accd0",
   "metadata": {},
   "source": [
    "### 6. After running the following code, what does the variable bacon contain?\n",
    "### bacon = 22\n",
    "### bacon + 1"
   ]
  },
  {
   "cell_type": "code",
   "execution_count": 1,
   "id": "d67149e3",
   "metadata": {},
   "outputs": [
    {
     "data": {
      "text/plain": [
       "23"
      ]
     },
     "execution_count": 1,
     "metadata": {},
     "output_type": "execute_result"
    }
   ],
   "source": [
    "bacon = 22\n",
    "bacon +1"
   ]
  },
  {
   "cell_type": "markdown",
   "id": "bd7ade6c",
   "metadata": {},
   "source": [
    "Ans: bacon = 22 The Variable bacon will contain the value of 23"
   ]
  },
  {
   "cell_type": "markdown",
   "id": "affaeb8c",
   "metadata": {},
   "source": [
    "### 7. What should the values of the following two terms be?\n",
    "### 'spam'+'spamspam\n",
    "### 'spam'*3"
   ]
  },
  {
   "cell_type": "code",
   "execution_count": 2,
   "id": "dd19b61f",
   "metadata": {},
   "outputs": [
    {
     "name": "stdout",
     "output_type": "stream",
     "text": [
      "spamspamspam\n",
      "spamspamspam\n"
     ]
    }
   ],
   "source": [
    "print('spam'+'spamspam')\n",
    "print('spam'*3)"
   ]
  },
  {
   "cell_type": "markdown",
   "id": "968864b6",
   "metadata": {},
   "source": [
    "Ans : Both are strings after runing the code'spamspamspam'"
   ]
  },
  {
   "cell_type": "markdown",
   "id": "0cd17728",
   "metadata": {},
   "source": [
    "### 8. Why is eggs a valid variable name while 100 is invalid?"
   ]
  },
  {
   "cell_type": "code",
   "execution_count": 3,
   "id": "42e10fbb",
   "metadata": {},
   "outputs": [
    {
     "ename": "SyntaxError",
     "evalue": "cannot assign to literal here. Maybe you meant '==' instead of '='? (3311280052.py, line 2)",
     "output_type": "error",
     "traceback": [
      "\u001b[1;36m  Cell \u001b[1;32mIn[3], line 2\u001b[1;36m\u001b[0m\n\u001b[1;33m    100='Hulk'\u001b[0m\n\u001b[1;37m    ^\u001b[0m\n\u001b[1;31mSyntaxError\u001b[0m\u001b[1;31m:\u001b[0m cannot assign to literal here. Maybe you meant '==' instead of '='?\n"
     ]
    }
   ],
   "source": [
    "egg=\"Thor\" \n",
    "100='Hulk' \n",
    "print(egg)\n",
    "print(100)# as you can see number variable is give (SyntaxError)"
   ]
  },
  {
   "cell_type": "markdown",
   "id": "a5f3b33a",
   "metadata": {},
   "source": [
    "Ans: Because python rules dont allow the number as variable only names can be a variables."
   ]
  },
  {
   "cell_type": "markdown",
   "id": "674a509b",
   "metadata": {},
   "source": [
    "### 9. What three functions can be used to get the integer, floating-point number, or string version of a value?"
   ]
  },
  {
   "cell_type": "code",
   "execution_count": 5,
   "id": "cdac75a2",
   "metadata": {},
   "outputs": [
    {
     "name": "stdout",
     "output_type": "stream",
     "text": [
      "int(10.0) ->  10\n",
      "float(10) ->  10.0\n",
      "str(10) ->  10\n"
     ]
    }
   ],
   "source": [
    "print('int(10.0) -> ',int(10.0)) # int() function converts given input to int\n",
    "print('float(10) -> ',float(10)) # float() function converts given input to float\n",
    "print('str(10) -> ',str(10)) # str() function converts given input to string"
   ]
  },
  {
   "cell_type": "markdown",
   "id": "a818b2a1",
   "metadata": {},
   "source": [
    "Ans: int(), float(), str()"
   ]
  },
  {
   "cell_type": "markdown",
   "id": "05745903",
   "metadata": {},
   "source": [
    "### 10. Why does this expression cause an error? How can you fix it?\n",
    "### 'I have eaten ' + 99 + 'burritos.'"
   ]
  },
  {
   "cell_type": "markdown",
   "id": "49c9035b",
   "metadata": {},
   "source": [
    "Ans:Error is shown since 99 is treated as an integer and it is not possible to concat a string and an integer. \n",
    "\n",
    "So, 99 must be typecasted to a string to fix this error."
   ]
  },
  {
   "cell_type": "code",
   "execution_count": 6,
   "id": "8572bed6",
   "metadata": {},
   "outputs": [
    {
     "name": "stdout",
     "output_type": "stream",
     "text": [
      "I have eaten 99 burritos\n"
     ]
    }
   ],
   "source": [
    "print('I have eaten '+str(99)+' burritos')"
   ]
  }
 ],
 "metadata": {
  "kernelspec": {
   "display_name": "Python 3 (ipykernel)",
   "language": "python",
   "name": "python3"
  },
  "language_info": {
   "codemirror_mode": {
    "name": "ipython",
    "version": 3
   },
   "file_extension": ".py",
   "mimetype": "text/x-python",
   "name": "python",
   "nbconvert_exporter": "python",
   "pygments_lexer": "ipython3",
   "version": "3.11.1"
  }
 },
 "nbformat": 4,
 "nbformat_minor": 5
}
