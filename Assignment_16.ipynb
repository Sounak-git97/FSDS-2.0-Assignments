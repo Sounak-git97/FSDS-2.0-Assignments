{
 "cells": [
  {
   "cell_type": "markdown",
   "id": "edfc7556",
   "metadata": {},
   "source": [
    "### 1. Create a list called years_list, starting with the year of your birth, and each year thereafter until the year of your fifth birthday. For example, if you were born in 1980. the list would be years_list = [1980, 1981, 1982, 1983, 1984, 1985]."
   ]
  },
  {
   "cell_type": "code",
   "execution_count": 1,
   "id": "71f560d3",
   "metadata": {},
   "outputs": [
    {
     "name": "stdout",
     "output_type": "stream",
     "text": [
      "[2000, 2001, 2002, 2003, 2004, 2005]\n"
     ]
    }
   ],
   "source": [
    "year_list = [i for i in range(2000,2000+6)]\n",
    "print(year_list)"
   ]
  },
  {
   "cell_type": "markdown",
   "id": "ee6543d2",
   "metadata": {},
   "source": [
    "### 2. In which year in years_list was your third birthday? Remember, you were 0 years of age for your first year."
   ]
  },
  {
   "cell_type": "code",
   "execution_count": 2,
   "id": "5e351b8e",
   "metadata": {},
   "outputs": [
    {
     "data": {
      "text/plain": [
       "2003"
      ]
     },
     "execution_count": 2,
     "metadata": {},
     "output_type": "execute_result"
    }
   ],
   "source": [
    "year_list[3]"
   ]
  },
  {
   "cell_type": "markdown",
   "id": "7c53d200",
   "metadata": {},
   "source": [
    "### 3.In the years list, which year were you the oldest?"
   ]
  },
  {
   "cell_type": "code",
   "execution_count": 3,
   "id": "25591359",
   "metadata": {},
   "outputs": [
    {
     "data": {
      "text/plain": [
       "2005"
      ]
     },
     "execution_count": 3,
     "metadata": {},
     "output_type": "execute_result"
    }
   ],
   "source": [
    "year_list[5]"
   ]
  },
  {
   "cell_type": "markdown",
   "id": "ddd68f0c",
   "metadata": {},
   "source": [
    "### 4. Make a list called things with these three strings as elements: \"mozzarella\", \"cinderella\", \"salmonella\"."
   ]
  },
  {
   "cell_type": "code",
   "execution_count": 4,
   "id": "e64fdf32",
   "metadata": {},
   "outputs": [
    {
     "name": "stdout",
     "output_type": "stream",
     "text": [
      "['mozzarella', 'cinderella', 'salmonella']\n"
     ]
    }
   ],
   "source": [
    "lst =  [\"mozzarella\", \"cinderella\", \"salmonella\"]\n",
    "print(lst)"
   ]
  },
  {
   "cell_type": "code",
   "execution_count": 5,
   "id": "45173df7",
   "metadata": {},
   "outputs": [
    {
     "name": "stdout",
     "output_type": "stream",
     "text": [
      "['mozzarella', 'Cinderella', 'salmonella']\n"
     ]
    }
   ],
   "source": [
    "for i in range(len(lst)):\n",
    "    if lst[i] == \"cinderella\":\n",
    "        lst[i] = lst[i].capitalize()\n",
    "        \n",
    "print(lst)"
   ]
  },
  {
   "cell_type": "code",
   "execution_count": 6,
   "id": "fae2203f",
   "metadata": {},
   "outputs": [
    {
     "data": {
      "text/plain": [
       "'Cinderella'"
      ]
     },
     "execution_count": 6,
     "metadata": {},
     "output_type": "execute_result"
    }
   ],
   "source": [
    "lst[1].capitalize()"
   ]
  },
  {
   "cell_type": "markdown",
   "id": "09dc6c98",
   "metadata": {},
   "source": [
    "### 6. Make a surprise list with the elements \"Groucho,\" \"Chico,\" and \"Harpo.\""
   ]
  },
  {
   "cell_type": "code",
   "execution_count": 7,
   "id": "1e16fe15",
   "metadata": {},
   "outputs": [
    {
     "name": "stdout",
     "output_type": "stream",
     "text": [
      "['Groucho,Chico,', 'Harpo']\n"
     ]
    }
   ],
   "source": [
    "Surprise_list = [\"Groucho,\" \"Chico,\", \"Harpo\"]\n",
    "print(Surprise_list)"
   ]
  },
  {
   "cell_type": "markdown",
   "id": "9380eb87",
   "metadata": {},
   "source": [
    "### 7. Lowercase the last element of the surprise list, reverse it, and then capitalize it."
   ]
  },
  {
   "cell_type": "code",
   "execution_count": 8,
   "id": "96242051",
   "metadata": {},
   "outputs": [
    {
     "name": "stdout",
     "output_type": "stream",
     "text": [
      "Oprah\n"
     ]
    }
   ],
   "source": [
    "print(Surprise_list[-1].lower()[::-1].capitalize())"
   ]
  },
  {
   "cell_type": "markdown",
   "id": "bd819fac",
   "metadata": {},
   "source": [
    "### 8. Make an English-to-French dictionary called e2f and print it. Here are your starter words: dog is chien, cat is chat, and walrus is morse."
   ]
  },
  {
   "cell_type": "code",
   "execution_count": 9,
   "id": "d76594d9",
   "metadata": {},
   "outputs": [
    {
     "name": "stdout",
     "output_type": "stream",
     "text": [
      "{'dog': 'chien', 'cat': 'chat', 'walrus': 'morse'}\n"
     ]
    }
   ],
   "source": [
    "e2f = {'dog':'chien','cat':'chat','walrus':'morse'}\n",
    "print(e2f)"
   ]
  },
  {
   "cell_type": "markdown",
   "id": "ead887ec",
   "metadata": {},
   "source": [
    "### 9. Write the French word for walrus in your three-word dictionary e2f."
   ]
  },
  {
   "cell_type": "code",
   "execution_count": 10,
   "id": "cafac4e6",
   "metadata": {},
   "outputs": [
    {
     "name": "stdout",
     "output_type": "stream",
     "text": [
      "morse\n"
     ]
    }
   ],
   "source": [
    "print(e2f.get(\"walrus\"))"
   ]
  },
  {
   "cell_type": "markdown",
   "id": "c91747af",
   "metadata": {},
   "source": [
    "### 10. Make a French-to-English dictionary called f2e from e2f. Use the items method."
   ]
  },
  {
   "cell_type": "code",
   "execution_count": 11,
   "id": "56b6ad71",
   "metadata": {},
   "outputs": [
    {
     "name": "stdout",
     "output_type": "stream",
     "text": [
      "{'chien': 'dog', 'chat': 'cat', 'morse': 'walrus'}\n"
     ]
    }
   ],
   "source": [
    "f2e = dict([i[::-1] for i in e2f.items()])\n",
    "print(f2e)"
   ]
  },
  {
   "cell_type": "markdown",
   "id": "144bfe32",
   "metadata": {},
   "source": [
    "### 11. Print the English version of the French word chien using f2e."
   ]
  },
  {
   "cell_type": "code",
   "execution_count": 12,
   "id": "363cdaef",
   "metadata": {},
   "outputs": [
    {
     "name": "stdout",
     "output_type": "stream",
     "text": [
      "dog\n"
     ]
    }
   ],
   "source": [
    "print(f2e.get(\"chien\"))"
   ]
  },
  {
   "cell_type": "markdown",
   "id": "0859f156",
   "metadata": {},
   "source": [
    "### 12. Make and print a set of English words from the keys in e2f."
   ]
  },
  {
   "cell_type": "code",
   "execution_count": 13,
   "id": "51a7117e",
   "metadata": {},
   "outputs": [
    {
     "name": "stdout",
     "output_type": "stream",
     "text": [
      "{'walrus', 'cat', 'dog'}\n"
     ]
    }
   ],
   "source": [
    "print(set(e2f.keys()))"
   ]
  },
  {
   "cell_type": "markdown",
   "id": "7c2d0de6",
   "metadata": {},
   "source": [
    "### 13. Make a multilevel dictionary called life. Use these strings for the topmost keys: 'animals', 'plants', and 'other'. Make the 'animals' key refer to another dictionary with the keys 'cats', 'octopi', and 'emus'. Make the 'cats' key refer to a list of strings with the values 'Henri', 'Grumpy', and 'Lucy'. Make all the other keys refer to empty dictionaries."
   ]
  },
  {
   "cell_type": "code",
   "execution_count": 14,
   "id": "f292fe2a",
   "metadata": {},
   "outputs": [
    {
     "name": "stdout",
     "output_type": "stream",
     "text": [
      "{'animals': {'cats': ['Henri', 'Grumpy', 'Lucy'], 'octopi': {}, 'emus': {}}, 'plants': {}, 'other': {}}\n"
     ]
    }
   ],
   "source": [
    "life = {\n",
    "    'animals':{\n",
    "        'cats':['Henri','Grumpy','Lucy'],\n",
    "        'octopi':{},\n",
    "        'emus':{}\n",
    "    },\n",
    "    'plants':{},\n",
    "    'other':{}\n",
    "}\n",
    "print(life)"
   ]
  },
  {
   "cell_type": "markdown",
   "id": "3f571a67",
   "metadata": {},
   "source": [
    "### 14. Print the top-level keys of life."
   ]
  },
  {
   "cell_type": "code",
   "execution_count": 15,
   "id": "82c0c050",
   "metadata": {},
   "outputs": [
    {
     "name": "stdout",
     "output_type": "stream",
     "text": [
      "dict_keys(['animals', 'plants', 'other'])\n"
     ]
    }
   ],
   "source": [
    "print(life.keys())"
   ]
  },
  {
   "cell_type": "markdown",
   "id": "e0874de5",
   "metadata": {},
   "source": [
    "### 15. Print the keys for life['animals']."
   ]
  },
  {
   "cell_type": "code",
   "execution_count": 16,
   "id": "26d0d89e",
   "metadata": {},
   "outputs": [
    {
     "name": "stdout",
     "output_type": "stream",
     "text": [
      "dict_keys(['cats', 'octopi', 'emus'])\n"
     ]
    }
   ],
   "source": [
    "print(life[\"animals\"].keys())"
   ]
  },
  {
   "cell_type": "markdown",
   "id": "24f3351c",
   "metadata": {},
   "source": [
    "### 16. Print the values for life['animals']['cats']"
   ]
  },
  {
   "cell_type": "code",
   "execution_count": 17,
   "id": "c0574564",
   "metadata": {},
   "outputs": [
    {
     "name": "stdout",
     "output_type": "stream",
     "text": [
      "['Henri', 'Grumpy', 'Lucy']\n"
     ]
    }
   ],
   "source": [
    "print(life[\"animals\"][\"cats\"])"
   ]
  }
 ],
 "metadata": {
  "kernelspec": {
   "display_name": "Python 3 (ipykernel)",
   "language": "python",
   "name": "python3"
  },
  "language_info": {
   "codemirror_mode": {
    "name": "ipython",
    "version": 3
   },
   "file_extension": ".py",
   "mimetype": "text/x-python",
   "name": "python",
   "nbconvert_exporter": "python",
   "pygments_lexer": "ipython3",
   "version": "3.11.1"
  }
 },
 "nbformat": 4,
 "nbformat_minor": 5
}
