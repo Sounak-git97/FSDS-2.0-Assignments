{
 "cells": [
  {
   "cell_type": "markdown",
   "id": "cea5759a",
   "metadata": {},
   "source": [
    "### 1.What does an empty dictionary's code look like?\n",
    "\n",
    "ANS: the empty ditionary is often represented by to empty curly brackets {}\n",
    "\n",
    "### 2.what is the value of dictionary value with key 'foo' and the value 42 ?\n",
    "\n",
    "ANS: {\"foo\":42}\n",
    "\n",
    "### 3.What is the most significant distinction between a dictionary and a list?\n",
    "\n",
    "Ans: Dictionaries are represented by { } where as listed are represented by [ ] The Items stored in a dictionary are Unordered , while the items in a list are ordered\n",
    "\n",
    "### 4.What happens if you try to access spam ['foo'] if spam is {'bar':100} ?\n",
    "\n",
    "Ans: we will get a keyError KeyError: 'foo'\n",
    "\n",
    "### 5.if a dictionary is stored in spam,what is the difference between the expressions 'cat' in spam and 'cat' in spam.keys() ?\n",
    "\n",
    "Ans: There is no difference . The operator checks whether a value exits as a key in the dictionary or not\n",
    "\n",
    "### 6.if a dictionary is stored in spam,what is the difference between the expressions 'cat' in spam and 'cat' in spam.values() ?\n",
    "\n",
    "Ans:'cat' in spam checks whether there is a 'cat' key in the dictionary, while 'cat' in spam.values() checks whether there is a value 'cat' for one of the keys in spam.\n",
    "\n",
    "### 7.what is a shortcut for the following code ?\n",
    "\n",
    "if 'color' not in spam: \n",
    "\n",
    "spam['color'] ='black'\n",
    "\n",
    "Ans: spam.setdefault('color','black')\n",
    "\n",
    "### 8.How do you 'pretty print' dictionary values using which modules and function ?\n",
    "\n",
    "Ans: we can pretty print a dictionary using three functions\n",
    "by using pprint() function of pprint module Note: pprint() function doesnot prettify nested dictionaries by using dumps() method of json module by using dumps() method of yaml module\n",
    "\n",
    " \n",
    " "
   ]
  }
 ],
 "metadata": {
  "kernelspec": {
   "display_name": "Python 3 (ipykernel)",
   "language": "python",
   "name": "python3"
  },
  "language_info": {
   "codemirror_mode": {
    "name": "ipython",
    "version": 3
   },
   "file_extension": ".py",
   "mimetype": "text/x-python",
   "name": "python",
   "nbconvert_exporter": "python",
   "pygments_lexer": "ipython3",
   "version": "3.11.1"
  }
 },
 "nbformat": 4,
 "nbformat_minor": 5
}
