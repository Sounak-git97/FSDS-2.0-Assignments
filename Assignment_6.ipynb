{
 "cells": [
  {
   "cell_type": "markdown",
   "id": "cc321046",
   "metadata": {},
   "source": [
    "### 1.What are Escape characters ? and how do you use them ?\n",
    "\n",
    "Ans:Escape characters represent characters in string values that would otherwise be difficult or impossible to type into code. we can use the backslash character to escape a single character or symbol example: \\t, \\n\n",
    "\n",
    "### 2.What do the escape characters n and t stand for ?\n",
    "\n",
    "Ans: \\n is a newline, \\t is a tab\n",
    "\n",
    "### 3.What is the way to include backslash character in a string?\n",
    "\n",
    "Ans: The \\ escape character will represent the backslash character in a string\n",
    "\n",
    "### 4.The string \"Howl's Moving Castle\" is a correct value. Why isn't the single quote character in the word Howl's not escaped a problem ?\n",
    "\n",
    "Ans: The string \"Howl's Moving Castle\" escaped the problem because it is wrapped inside double quotes. if its wrapped inside single quotes then we have to use escape character ' to show single quote in the final output\n",
    "\n",
    "'Howl's Moving Castle' -> 'Howl's Moving Castle'\n",
    "\n",
    "### 5.How do you write a string of newlines if you don't want to use the n character?\n",
    "\n",
    "Ans: Multiline string allow you to use newlines in string without the \\n escape character"
   ]
  },
  {
   "cell_type": "markdown",
   "id": "6444e1c3",
   "metadata": {},
   "source": [
    "### 6.What are the values of the given expressions ?\n",
    "'Hello, world!'[1] \n",
    "'Hello, world!'[0:5] \n",
    "'Hello, world!'[:5] \n",
    "'Hello, world!'[3:]"
   ]
  },
  {
   "cell_type": "code",
   "execution_count": 1,
   "id": "ca59bd51",
   "metadata": {},
   "outputs": [
    {
     "name": "stdout",
     "output_type": "stream",
     "text": [
      "e\n",
      "hello\n",
      "hello\n",
      "lo, World!\n"
     ]
    }
   ],
   "source": [
    "print(\"hello, World!\"[1])\n",
    "print(\"hello, World!\"[0:5])\n",
    "print(\"hello, World!\"[:5])\n",
    "print(\"hello, World!\"[3:])"
   ]
  },
  {
   "cell_type": "markdown",
   "id": "b4e17f7b",
   "metadata": {},
   "source": [
    "### 7.What are the values of the following expressions ?\n",
    "'Hello'.upper() 'Hello'.upper().isupper() 'Hello'.upper().lower()"
   ]
  },
  {
   "cell_type": "code",
   "execution_count": 2,
   "id": "36ddddb3",
   "metadata": {},
   "outputs": [
    {
     "name": "stdout",
     "output_type": "stream",
     "text": [
      "HELLO\n",
      "True\n",
      "hello\n"
     ]
    }
   ],
   "source": [
    "print('Hello'.upper())\n",
    "print('Hello'.upper().isupper())\n",
    "print('Hello'.upper().lower())"
   ]
  },
  {
   "cell_type": "markdown",
   "id": "95637914",
   "metadata": {},
   "source": [
    "### 8.What are the values of the following expressions ?\n",
    "'Remember, remember, the fifth of July.'.split()\n",
    "\n",
    "'_'.join('There can only one.'.split())"
   ]
  },
  {
   "cell_type": "code",
   "execution_count": 3,
   "id": "1b1abe2e",
   "metadata": {},
   "outputs": [
    {
     "name": "stdout",
     "output_type": "stream",
     "text": [
      "['Remember,', 'remember,', 'the', 'fifth', 'of', 'July.']\n",
      "There_can_only_one.\n"
     ]
    }
   ],
   "source": [
    "print('Remember, remember, the fifth of July.'.split())\n",
    "print('_'.join('There can only one.'.split()))"
   ]
  },
  {
   "cell_type": "markdown",
   "id": "7d0b3d3c",
   "metadata": {},
   "source": [
    "### 9.What are the methods for right-justifying, left-justifying and centering a string ?\n",
    "\n",
    "Ans: The rjust(),ljust(),center() string methods, respectively\n",
    "\n",
    "### 10.What is the best way to remove whitespace characters from the start or end ?\n",
    "\n",
    "Ans: The lstrip() and rstrip() methods remove whitesapce characters from the left and right ends of a string respectively"
   ]
  }
 ],
 "metadata": {
  "kernelspec": {
   "display_name": "Python 3 (ipykernel)",
   "language": "python",
   "name": "python3"
  },
  "language_info": {
   "codemirror_mode": {
    "name": "ipython",
    "version": 3
   },
   "file_extension": ".py",
   "mimetype": "text/x-python",
   "name": "python",
   "nbconvert_exporter": "python",
   "pygments_lexer": "ipython3",
   "version": "3.11.1"
  }
 },
 "nbformat": 4,
 "nbformat_minor": 5
}
