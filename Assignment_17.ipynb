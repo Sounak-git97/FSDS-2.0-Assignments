{
 "cells": [
  {
   "cell_type": "markdown",
   "id": "f23a0d22",
   "metadata": {},
   "source": [
    "### 1. Assign the value 7 to the variable guess_me. Then, write the conditional tests (if, else, and elif) to print the string 'too low' if guess_me is less than 7, 'too high' if greater than 7, and 'just right' if equal to 7."
   ]
  },
  {
   "cell_type": "code",
   "execution_count": 1,
   "id": "32e9a144",
   "metadata": {},
   "outputs": [
    {
     "name": "stdout",
     "output_type": "stream",
     "text": [
      "enter number: 10\n",
      "too high\n",
      "enter number: 7\n",
      "Just right\n",
      "enter number: 4\n",
      "too low\n"
     ]
    }
   ],
   "source": [
    "def Gusse_me():\n",
    "    num = int(input(\"enter number: \"))\n",
    "    if num == 7:\n",
    "        print(\"Just right\")\n",
    "    elif num > 7:\n",
    "        print(\"too high\")\n",
    "    else:\n",
    "        print(\"too low\")\n",
    "            \n",
    "for i in range(3):\n",
    "    Gusse_me()"
   ]
  },
  {
   "cell_type": "markdown",
   "id": "28b76ae7",
   "metadata": {},
   "source": [
    "### 2. Assign the value 7 to the variable guess_me and the value 1 to the variable start. Write a while loop that compares start with guess_me. Print too low if start is less than guess me. If start equals guess_me, print 'found it!' and exit the loop. If start is greater than guess_me, print 'oops' and exit the loop. Increment start at the end of the loop"
   ]
  },
  {
   "cell_type": "code",
   "execution_count": 2,
   "id": "9062aa0f",
   "metadata": {},
   "outputs": [
    {
     "name": "stdout",
     "output_type": "stream",
     "text": [
      "enter number: 7\n",
      "Too Low\n",
      "Too Low\n",
      "Too Low\n",
      "Too Low\n",
      "Too Low\n",
      "Too Low\n",
      "Found It!\n"
     ]
    }
   ],
   "source": [
    "guess_me = int(input(\"enter number: \"))\n",
    "start = 1\n",
    "\n",
    "while True:\n",
    "    if start < guess_me:\n",
    "        print(\"Too Low\")\n",
    "        \n",
    "    elif start == guess_me:\n",
    "        print(\"Found It!\")\n",
    "        break\n",
    "    else:\n",
    "        print(\"OOPS\")\n",
    "        break\n",
    "    start = start+1"
   ]
  },
  {
   "cell_type": "markdown",
   "id": "91b29f53",
   "metadata": {},
   "source": [
    "### 3. Print the following values of the list [3, 2, 1, 0] using a for loop."
   ]
  },
  {
   "cell_type": "code",
   "execution_count": 3,
   "id": "6a649132",
   "metadata": {},
   "outputs": [
    {
     "name": "stdout",
     "output_type": "stream",
     "text": [
      "3\n",
      "2\n",
      "1\n",
      "0\n"
     ]
    }
   ],
   "source": [
    "inlist = [3,2,1,0]\n",
    "\n",
    "for i in inlist:\n",
    "    print(i)"
   ]
  },
  {
   "cell_type": "markdown",
   "id": "acd81848",
   "metadata": {},
   "source": [
    "### 4. Use a list comprehension to make a list of the even numbers in range(10)"
   ]
  },
  {
   "cell_type": "code",
   "execution_count": 4,
   "id": "eb20fd2c",
   "metadata": {},
   "outputs": [
    {
     "name": "stdout",
     "output_type": "stream",
     "text": [
      "[0, 2, 4, 6, 8, 10]\n"
     ]
    }
   ],
   "source": [
    "print([x for x in range(10+1) if x%2 == 0])"
   ]
  },
  {
   "cell_type": "markdown",
   "id": "3317c301",
   "metadata": {},
   "source": [
    "### 5. Use a dictionary comprehension to create the dictionary squares. Use range(10) to return the keys, and use the square of each key as its value."
   ]
  },
  {
   "cell_type": "code",
   "execution_count": 5,
   "id": "53fc3509",
   "metadata": {},
   "outputs": [
    {
     "name": "stdout",
     "output_type": "stream",
     "text": [
      "{0: 0, 1: 1, 2: 4, 3: 9, 4: 16, 5: 25, 6: 36, 7: 49, 8: 64, 9: 81}\n"
     ]
    }
   ],
   "source": [
    "print({x:x**2 for x in range(10)})"
   ]
  },
  {
   "cell_type": "markdown",
   "id": "2ea336ff",
   "metadata": {},
   "source": [
    "### 7. Use a generator comprehension to return the string 'Got ' and a number for the numbers in range(10). Iterate through this by using a for loop"
   ]
  },
  {
   "cell_type": "code",
   "execution_count": 6,
   "id": "18992139",
   "metadata": {},
   "outputs": [
    {
     "name": "stdout",
     "output_type": "stream",
     "text": [
      "got0 got1 got2 got3 got4 got5 got6 got7 got8 got9 "
     ]
    }
   ],
   "source": [
    "gen = (\"got\"+str(x) for x in range(10))\n",
    "\n",
    "for i in gen:\n",
    "    print(i,end=\" \")"
   ]
  },
  {
   "cell_type": "markdown",
   "id": "f1686066",
   "metadata": {},
   "source": [
    "### 8. Define a function called good that returns the list ['Harry', 'Ron', 'Hermione']."
   ]
  },
  {
   "cell_type": "code",
   "execution_count": 7,
   "id": "de737153",
   "metadata": {},
   "outputs": [
    {
     "data": {
      "text/plain": [
       "['Harry', 'ron', 'Hermione']"
      ]
     },
     "execution_count": 7,
     "metadata": {},
     "output_type": "execute_result"
    }
   ],
   "source": [
    "def good():\n",
    "    lst = [\"Harry\",\"ron\",\"Hermione\"]\n",
    "    return lst\n",
    "\n",
    "good()"
   ]
  },
  {
   "cell_type": "markdown",
   "id": "1837da07",
   "metadata": {},
   "source": [
    "### 9. Define a generator function called get_odds that returns the odd numbers from range(10). Use a for loop to find and print the third value returned."
   ]
  },
  {
   "cell_type": "code",
   "execution_count": 8,
   "id": "e50247cd",
   "metadata": {},
   "outputs": [
    {
     "data": {
      "text/plain": [
       "5"
      ]
     },
     "execution_count": 8,
     "metadata": {},
     "output_type": "execute_result"
    }
   ],
   "source": [
    "def get_odd():\n",
    "    output = []\n",
    "    for i in range(10):\n",
    "        if i%2 != 0:\n",
    "            output.append(i)\n",
    "    yield output\n",
    "    \n",
    "next(get_odd())[2]\n"
   ]
  },
  {
   "cell_type": "markdown",
   "id": "65eb90e8",
   "metadata": {},
   "source": [
    "### 10. Define an exception called OopsException. Raise this exception to see what happens. Then write the code to catch this exception and print 'Caught an oops'."
   ]
  },
  {
   "cell_type": "code",
   "execution_count": 9,
   "id": "d3845f5c",
   "metadata": {},
   "outputs": [
    {
     "name": "stdout",
     "output_type": "stream",
     "text": [
      "Caught an Oops name 'sounak' is not defined\n"
     ]
    }
   ],
   "source": [
    "class OopsException(Exception):\n",
    "    pass\n",
    "\n",
    "def test(input):\n",
    "    if input <0:\n",
    "        raise OopsException(sounak)\n",
    "try:\n",
    "    test(-100)\n",
    "except Exception as e:\n",
    "    print(\"Caught an Oops\",e)"
   ]
  },
  {
   "cell_type": "markdown",
   "id": "09fb199d",
   "metadata": {},
   "source": [
    "### 11. Use zip() to make a dictionary called movies that pairs these lists: titles = ['Creature of Habit', 'Crewel Fate'] and plots = ['A nun turns into a monster', 'A haunted yarn shop']."
   ]
  },
  {
   "cell_type": "code",
   "execution_count": 10,
   "id": "9da9e90f",
   "metadata": {},
   "outputs": [
    {
     "name": "stdout",
     "output_type": "stream",
     "text": [
      "{'Creature of Habit': 'A nun turns into a monster', 'Crewel Fate': 'A haunted yarn shop'}\n"
     ]
    }
   ],
   "source": [
    "titles = ['Creature of Habit', 'Crewel Fate']\n",
    "plots = ['A nun turns into a monster', 'A haunted yarn shop']\n",
    "\n",
    "print(dict(zip(titles,plots)))"
   ]
  }
 ],
 "metadata": {
  "kernelspec": {
   "display_name": "Python 3 (ipykernel)",
   "language": "python",
   "name": "python3"
  },
  "language_info": {
   "codemirror_mode": {
    "name": "ipython",
    "version": 3
   },
   "file_extension": ".py",
   "mimetype": "text/x-python",
   "name": "python",
   "nbconvert_exporter": "python",
   "pygments_lexer": "ipython3",
   "version": "3.11.1"
  }
 },
 "nbformat": 4,
 "nbformat_minor": 5
}
