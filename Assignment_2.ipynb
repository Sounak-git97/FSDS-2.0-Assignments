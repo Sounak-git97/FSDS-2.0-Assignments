{
 "cells": [
  {
   "cell_type": "markdown",
   "id": "11d4a6a3",
   "metadata": {},
   "source": [
    "### 1.What are the two values of the Boolean data type? How do you write them?"
   ]
  },
  {
   "cell_type": "code",
   "execution_count": 1,
   "id": "6965eff3",
   "metadata": {},
   "outputs": [
    {
     "name": "stdout",
     "output_type": "stream",
     "text": [
      "<class 'bool'>\n",
      "<class 'bool'>\n"
     ]
    }
   ],
   "source": [
    "a=True\n",
    "b=False\n",
    "print(type(a))\n",
    "print(type(b))"
   ]
  },
  {
   "cell_type": "markdown",
   "id": "4f946b57",
   "metadata": {},
   "source": [
    "ANS: There are two type of boolean value (True,False)"
   ]
  },
  {
   "cell_type": "markdown",
   "id": "796f878c",
   "metadata": {},
   "source": [
    "### 2. What are the three different types of Boolean operators?\n",
    "\n",
    "ANS: There are three type of boolean operator in python are(or,and,not)"
   ]
  },
  {
   "cell_type": "markdown",
   "id": "415f2733",
   "metadata": {},
   "source": [
    "### 3. Make a list of each Boolean operator's truth tables (i.e. every possible combination of Boolean values for the operator and what it evaluate) ?"
   ]
  },
  {
   "cell_type": "code",
   "execution_count": 2,
   "id": "b914c189",
   "metadata": {},
   "outputs": [],
   "source": [
    "# ANS:\n",
    "# 1.Truth Table for AND operaotor\n",
    "# True and True is True\n",
    "# True and False is False\n",
    "# False and True is False\n",
    "# False and False is False\n",
    "\n",
    "# 2.Truth Table for OR operaotor\n",
    "# True and True is True\n",
    "# True and False is True\n",
    "# False and True is True\n",
    "# False and False is False\n",
    "\n",
    "# 3.Truth Table for NOT operaotor\n",
    "# True not is False False not is True"
   ]
  },
  {
   "cell_type": "markdown",
   "id": "5ff6097f",
   "metadata": {},
   "source": [
    "### 4. What are the values of the following expressions ?\n",
    "(5 > 4) and (3 == 5) not (5 > 4) (5 > 4) or (3 == 5) not ((5 > 4) or (3 == 5)) (True and True) and (True == False) (not False) or (not True)"
   ]
  },
  {
   "cell_type": "code",
   "execution_count": 3,
   "id": "b080dd4c",
   "metadata": {},
   "outputs": [
    {
     "name": "stdout",
     "output_type": "stream",
     "text": [
      "False\n",
      "False\n",
      "True\n",
      "False\n",
      "False\n",
      "True\n"
     ]
    }
   ],
   "source": [
    "print((5>4)and(3==5))\n",
    "print(not(5>4))\n",
    "print((5>4)or(3==5)) \n",
    "print(not((5>4)or(3==5))) \n",
    "print((True and True)and(True==False)) \n",
    "print((not False)or(not True)) "
   ]
  },
  {
   "cell_type": "markdown",
   "id": "226c615c",
   "metadata": {},
   "source": [
    "### 5. What are the six comparison operators?\n",
    "ANS: ==, !=, <, >, <=, =>"
   ]
  },
  {
   "cell_type": "markdown",
   "id": "e06bbf97",
   "metadata": {},
   "source": [
    "### 6. How do you tell the difference between the equal to and assignment operators?Describe a condition and when you would use one ?"
   ]
  },
  {
   "cell_type": "markdown",
   "id": "e0e91344",
   "metadata": {},
   "source": [
    "ANS: == is the equal to operator that the compares two values are equal are not and give boolean\n",
    "\n",
    "= is that assignment operator that store a value in avariable"
   ]
  },
  {
   "cell_type": "code",
   "execution_count": 5,
   "id": "56bdebae",
   "metadata": {},
   "outputs": [
    {
     "name": "stdout",
     "output_type": "stream",
     "text": [
      "True\n"
     ]
    }
   ],
   "source": [
    "A = 3\n",
    "if A==3:\n",
    "    print(A==3)"
   ]
  },
  {
   "cell_type": "markdown",
   "id": "8771b6c4",
   "metadata": {},
   "source": [
    "### 7. Identify the three blocks in this code:\n",
    "\n",
    "ANS: \n",
    "spam = 0 \n",
    "if spam == 10: \n",
    "    print('eggs') \n",
    "if spam > 5: \n",
    "    print('bacon') \n",
    "else: \n",
    "    print('ham') \n",
    "    print('spam') \n",
    "    print('spam')\n",
    "    \n",
    "In Python, code block refers to a collection of code that is in the same block or indent. This is most commonly found in classes, functions, and loops."
   ]
  },
  {
   "cell_type": "markdown",
   "id": "1ab78fef",
   "metadata": {},
   "source": [
    "### 8.Write code that prints Hello if 1 is stored in spam, prints Howdy if 2 is stored in spam, and prints Greetings! if anything else is stored in spam"
   ]
  },
  {
   "cell_type": "code",
   "execution_count": 6,
   "id": "0320c055",
   "metadata": {},
   "outputs": [
    {
     "name": "stdout",
     "output_type": "stream",
     "text": [
      "hello\n",
      "howdy\n",
      "greeting\n"
     ]
    }
   ],
   "source": [
    "def spam_code(spam):\n",
    "    if spam == 1:\n",
    "        print(\"hello\")\n",
    "    elif spam == 2:\n",
    "        print(\"howdy\")\n",
    "    else:\n",
    "        print(\"greeting\")\n",
    "        \n",
    "spam_code(1)\n",
    "spam_code(2)\n",
    "spam_code(3)"
   ]
  },
  {
   "cell_type": "markdown",
   "id": "aee2beb0",
   "metadata": {},
   "source": [
    "### 9.If your programme is stuck in an endless loop, what keys you’ll press?\n",
    "\n",
    "ANS: Press Ctrl-c to stop a program stuck in an infinite loop"
   ]
  },
  {
   "cell_type": "markdown",
   "id": "8d66616a",
   "metadata": {},
   "source": [
    "### 10. How can you tell the difference between break and continue?\n",
    "\n",
    "ANS: The break statement will move the execution outside the loop if break condtion is satisfied. whereas the continue statement will move the execution to the start of the loop"
   ]
  },
  {
   "cell_type": "markdown",
   "id": "5f1948ab",
   "metadata": {},
   "source": [
    "### 11. In a for loop, what is the difference between range(10), range(0, 10), and range(0, 10, 1)?\n",
    "\n",
    "ANS:\n",
    "1.The rang(10) call range from 0 to 9(but not include 10)\n",
    "2.The range(0,10) tells that the loop to start from 0\n",
    "3.The range(0,10,1)tells that the loop to increase the variable by 1 on each iteration"
   ]
  },
  {
   "cell_type": "markdown",
   "id": "03b1e823",
   "metadata": {},
   "source": [
    "### 12. Write a short program that prints the numbers 1 to 10 using a for loop. Then write an equivalent program that prints the numbers 1 to 10 using a while loop ?"
   ]
  },
  {
   "cell_type": "code",
   "execution_count": 8,
   "id": "389a353c",
   "metadata": {},
   "outputs": [
    {
     "name": "stdout",
     "output_type": "stream",
     "text": [
      "1 2 3 4 5 6 7 8 9 10 \n",
      "\n",
      "1 2 3 4 5 6 7 8 9 10 "
     ]
    }
   ],
   "source": [
    "# Using for loop\n",
    "for i in range(1,11):\n",
    "    print(i,end=\" \")\n",
    "print(\"\\n\")\n",
    "    \n",
    "#using wile loop\n",
    "i = 1\n",
    "while i <= 10:\n",
    "    print(i,end=\" \")\n",
    "    i+=1"
   ]
  },
  {
   "cell_type": "markdown",
   "id": "5362f36b",
   "metadata": {},
   "source": [
    "### 13. If you had a function named bacon() inside a module named spam, how would you call it after importing spam ?\n",
    "\n",
    "ANS: This function can be called with spam.bacon()"
   ]
  }
 ],
 "metadata": {
  "kernelspec": {
   "display_name": "Python 3 (ipykernel)",
   "language": "python",
   "name": "python3"
  },
  "language_info": {
   "codemirror_mode": {
    "name": "ipython",
    "version": 3
   },
   "file_extension": ".py",
   "mimetype": "text/x-python",
   "name": "python",
   "nbconvert_exporter": "python",
   "pygments_lexer": "ipython3",
   "version": "3.11.1"
  }
 },
 "nbformat": 4,
 "nbformat_minor": 5
}
