{
 "cells": [
  {
   "cell_type": "markdown",
   "id": "793099f9",
   "metadata": {},
   "source": [
    "### 1. Write a Python Program to find sum of Array ?"
   ]
  },
  {
   "cell_type": "code",
   "execution_count": 1,
   "id": "3d99d524",
   "metadata": {},
   "outputs": [],
   "source": [
    "def sumofarray():\n",
    "    l = [1,2,3,4,5,7,8,9,0]\n",
    "    for i in l:\n",
    "        return (sum(l))"
   ]
  },
  {
   "cell_type": "code",
   "execution_count": 2,
   "id": "ef9e0378",
   "metadata": {},
   "outputs": [
    {
     "data": {
      "text/plain": [
       "39"
      ]
     },
     "execution_count": 2,
     "metadata": {},
     "output_type": "execute_result"
    }
   ],
   "source": [
    "sumofarray()"
   ]
  },
  {
   "cell_type": "markdown",
   "id": "57ff3ba9",
   "metadata": {},
   "source": [
    "### 2. Write a Python Program to find Largest element in an Array ?"
   ]
  },
  {
   "cell_type": "code",
   "execution_count": 3,
   "id": "7acb5ece",
   "metadata": {},
   "outputs": [],
   "source": [
    "def find_largest_element():\n",
    "    a = [1,2,5,6,4,8100]\n",
    "    for i in a:\n",
    "        if int(i) > 10:\n",
    "            return \"this is the largest number\",i"
   ]
  },
  {
   "cell_type": "code",
   "execution_count": 4,
   "id": "8cbdc025",
   "metadata": {},
   "outputs": [
    {
     "data": {
      "text/plain": [
       "('this is the largest number', 8100)"
      ]
     },
     "execution_count": 4,
     "metadata": {},
     "output_type": "execute_result"
    }
   ],
   "source": [
    "find_largest_element()"
   ]
  },
  {
   "cell_type": "markdown",
   "id": "e749c5fe",
   "metadata": {},
   "source": [
    "### 3. Write a Python Program for array rotation ?"
   ]
  },
  {
   "cell_type": "code",
   "execution_count": 5,
   "id": "453c4aa6",
   "metadata": {},
   "outputs": [
    {
     "data": {
      "text/plain": [
       "[14, 13, 12, 11, 9, 8, 7, 4, 5, 6, 3, 2, 1]"
      ]
     },
     "execution_count": 5,
     "metadata": {},
     "output_type": "execute_result"
    }
   ],
   "source": [
    "def Rotation_array():\n",
    "    b = [1,2,3,6,5,4,7,8,9,11,12,13,14]\n",
    "    return b[::-1]\n",
    "\n",
    "Rotation_array()"
   ]
  },
  {
   "cell_type": "markdown",
   "id": "3e080d7a",
   "metadata": {},
   "source": [
    "### 4. Write a Python Program to Split the array and add the first part to the end ?"
   ]
  },
  {
   "cell_type": "code",
   "execution_count": 6,
   "id": "aa7c1ec0",
   "metadata": {},
   "outputs": [
    {
     "data": {
      "text/plain": [
       "[1, 2, 3, 6, 5, 4, 7, 89, 1]"
      ]
     },
     "execution_count": 6,
     "metadata": {},
     "output_type": "execute_result"
    }
   ],
   "source": [
    "d = [1,2,3,6,5,4,7,89]\n",
    "d.insert(8,1)\n",
    "d"
   ]
  },
  {
   "cell_type": "markdown",
   "id": "9673adc7",
   "metadata": {},
   "source": [
    "### 5. Write a Python Program to check if given array is Monotonic ?"
   ]
  },
  {
   "cell_type": "code",
   "execution_count": 7,
   "id": "fbf4668b",
   "metadata": {},
   "outputs": [
    {
     "name": "stdout",
     "output_type": "stream",
     "text": [
      "Enter the Array: 1,2,3,6,5,4,7,8\n",
      "Array (1, 2, 3, 6, 5, 4, 7, 8) is Not Monotonic\n",
      "Enter the Array:  1,2,4,5\n",
      "Array (1, 2, 4, 5) is Monotonic\n"
     ]
    }
   ],
   "source": [
    "def checkMonotonic():\n",
    "    in_arr = eval(input(\"Enter the Array: \"))\n",
    "    if(all(in_arr[i]<=in_arr[i+1] for i in range(len(in_arr)-1)) or all(in_arr[i]>=in_arr[i+1] for i in range(len(in_arr)-1))):\n",
    "        print(f'Array {in_arr} is Monotonic')\n",
    "    else:\n",
    "        print(f'Array {in_arr} is Not Monotonic')\n",
    "        \n",
    "checkMonotonic()\n",
    "checkMonotonic()"
   ]
  }
 ],
 "metadata": {
  "kernelspec": {
   "display_name": "Python 3 (ipykernel)",
   "language": "python",
   "name": "python3"
  },
  "language_info": {
   "codemirror_mode": {
    "name": "ipython",
    "version": 3
   },
   "file_extension": ".py",
   "mimetype": "text/x-python",
   "name": "python",
   "nbconvert_exporter": "python",
   "pygments_lexer": "ipython3",
   "version": "3.11.1"
  }
 },
 "nbformat": 4,
 "nbformat_minor": 5
}
