{
 "cells": [
  {
   "cell_type": "markdown",
   "id": "800fa0db",
   "metadata": {},
   "source": [
    "1. Write a Python program to find words which are greater than given length k?"
   ]
  },
  {
   "cell_type": "code",
   "execution_count": 1,
   "id": "075d09a7",
   "metadata": {},
   "outputs": [],
   "source": [
    "def find_long_words(string, k):\n",
    "    words = string.split()\n",
    "    long_words = []\n",
    "    for word in words:\n",
    "        if len(word) > k:\n",
    "            long_words.append(word)\n",
    "    return long_words"
   ]
  },
  {
   "cell_type": "code",
   "execution_count": 2,
   "id": "3474d29d",
   "metadata": {},
   "outputs": [
    {
     "name": "stdout",
     "output_type": "stream",
     "text": [
      "['quick', 'brown', 'jumps']\n"
     ]
    }
   ],
   "source": [
    "string = \"The quick brown fox jumps over the lazy dog\"\n",
    "k = 4\n",
    "long_words = find_long_words(string, k)\n",
    "print(long_words)"
   ]
  },
  {
   "cell_type": "markdown",
   "id": "5e9a18fd",
   "metadata": {},
   "source": [
    "2. Write a Python program for removing i-th character from a string?"
   ]
  },
  {
   "cell_type": "code",
   "execution_count": 3,
   "id": "1e34ef2e",
   "metadata": {},
   "outputs": [],
   "source": [
    "def remove_char(string, i):\n",
    "    new_string = string[:i] + string[i+1:]\n",
    "    return new_string"
   ]
  },
  {
   "cell_type": "code",
   "execution_count": 5,
   "id": "ebae9adf",
   "metadata": {},
   "outputs": [
    {
     "data": {
      "text/plain": [
       "'Sounk'"
      ]
     },
     "execution_count": 5,
     "metadata": {},
     "output_type": "execute_result"
    }
   ],
   "source": [
    "remove_char(\"Sounak\",4)"
   ]
  },
  {
   "cell_type": "markdown",
   "id": "e715a6b1",
   "metadata": {},
   "source": [
    "3. Write a Python program to split and join a string?"
   ]
  },
  {
   "cell_type": "code",
   "execution_count": 6,
   "id": "a9e8ba41",
   "metadata": {},
   "outputs": [],
   "source": [
    "def split_and_join(string, split_sep, join_sep):\n",
    "    # split the string into a list of substrings using split_sep as the separator\n",
    "    substrings = string.split(split_sep)\n",
    "    \n",
    "    # join the substrings back into a single string using join_sep as the separator\n",
    "    new_string = join_sep.join(substrings)\n",
    "    \n",
    "    return new_string"
   ]
  },
  {
   "cell_type": "code",
   "execution_count": 7,
   "id": "e41ca547",
   "metadata": {},
   "outputs": [
    {
     "name": "stdout",
     "output_type": "stream",
     "text": [
      "Hello-World\n"
     ]
    }
   ],
   "source": [
    "string = \"Hello World\"\n",
    "split_sep = \" \"\n",
    "join_sep = \"-\"\n",
    "new_string = split_and_join(string, split_sep, join_sep)\n",
    "print(new_string)"
   ]
  },
  {
   "cell_type": "markdown",
   "id": "4876fc03",
   "metadata": {},
   "source": [
    "4. Write a Python to check if a given string is binary string or not?"
   ]
  },
  {
   "cell_type": "code",
   "execution_count": 8,
   "id": "b6eeae24",
   "metadata": {},
   "outputs": [],
   "source": [
    "def is_binary_string(string):\n",
    "    # iterate over each character in the string\n",
    "    for char in string:\n",
    "        # if the character is not '0' or '1', then it's not a binary string\n",
    "        if char != '0' and char != '1':\n",
    "            return False\n",
    "    \n",
    "    # if we made it through the entire string without finding any non-binary characters, then it's a binary string\n",
    "    return True"
   ]
  },
  {
   "cell_type": "code",
   "execution_count": 9,
   "id": "1ae291d6",
   "metadata": {},
   "outputs": [
    {
     "name": "stdout",
     "output_type": "stream",
     "text": [
      "True\n",
      "False\n"
     ]
    }
   ],
   "source": [
    "string1 = \"10101010101\"\n",
    "string2 = \"11010021\"\n",
    "print(is_binary_string(string1)) \n",
    "print(is_binary_string(string2)) "
   ]
  },
  {
   "cell_type": "markdown",
   "id": "0f0bb981",
   "metadata": {},
   "source": [
    "5. Write a Python program to find uncommon words from two Strings?"
   ]
  },
  {
   "cell_type": "code",
   "execution_count": 10,
   "id": "08477fa7",
   "metadata": {},
   "outputs": [],
   "source": [
    "def find_uncommon_words(string1, string2):\n",
    "    # split the strings into lists of words\n",
    "    words1 = string1.split()\n",
    "    words2 = string2.split()\n",
    "    \n",
    "    # create a set of all words in both strings\n",
    "    all_words = set(words1 + words2)\n",
    "    \n",
    "    # create a list of words that are unique to one of the strings\n",
    "    uncommon_words = []\n",
    "    for word in all_words:\n",
    "        if (word in words1 and word not in words2) or (word in words2 and word not in words1):\n",
    "            uncommon_words.append(word)\n",
    "    \n",
    "    return uncommon_words"
   ]
  },
  {
   "cell_type": "code",
   "execution_count": 11,
   "id": "526ad94c",
   "metadata": {},
   "outputs": [
    {
     "name": "stdout",
     "output_type": "stream",
     "text": [
      "['jumps', 'lazy', 'over', 'dog']\n"
     ]
    }
   ],
   "source": [
    "string1 = \"the quick brown fox\"\n",
    "string2 = \"the lazy dog jumps over the quick brown fox\"\n",
    "uncommon_words = find_uncommon_words(string1, string2)\n",
    "print(uncommon_words)"
   ]
  },
  {
   "cell_type": "markdown",
   "id": "9603e381",
   "metadata": {},
   "source": [
    "6. Write a Python to find all duplicate characters in string?"
   ]
  },
  {
   "cell_type": "code",
   "execution_count": 12,
   "id": "adeb0a87",
   "metadata": {},
   "outputs": [],
   "source": [
    "def find_duplicate_chars(string):\n",
    "    # create an empty set to store the duplicate characters\n",
    "    duplicates = set()\n",
    "    \n",
    "    # create an empty set to store the characters we've already seen\n",
    "    seen_chars = set()\n",
    "    \n",
    "    # iterate over each character in the string\n",
    "    for char in string:\n",
    "        # if we've already seen this character, then it's a duplicate\n",
    "        if char in seen_chars:\n",
    "            duplicates.add(char)\n",
    "        # otherwise, add it to the set of seen characters\n",
    "        else:\n",
    "            seen_chars.add(char)\n",
    "    \n",
    "    return duplicates"
   ]
  },
  {
   "cell_type": "code",
   "execution_count": 13,
   "id": "e39f484c",
   "metadata": {},
   "outputs": [
    {
     "name": "stdout",
     "output_type": "stream",
     "text": [
      "{'l', 'o'}\n"
     ]
    }
   ],
   "source": [
    "string = \"Hello World\"\n",
    "duplicates = find_duplicate_chars(string)\n",
    "print(duplicates)"
   ]
  },
  {
   "cell_type": "markdown",
   "id": "b156c858",
   "metadata": {},
   "source": [
    "7. Write a Python Program to check if a string contains any special character?"
   ]
  },
  {
   "cell_type": "code",
   "execution_count": 14,
   "id": "58c81056",
   "metadata": {},
   "outputs": [],
   "source": [
    "import re\n",
    "\n",
    "def contains_special_char(string):\n",
    "    # define a regular expression pattern for special characters\n",
    "    pattern = r'[^a-zA-Z0-9\\s]'\n",
    "    \n",
    "    # search the string for any matches to the pattern\n",
    "    match = re.search(pattern, string)\n",
    "    \n",
    "    # if there is a match, then the string contains a special character\n",
    "    if match:\n",
    "        return True\n",
    "    else:\n",
    "        return False"
   ]
  },
  {
   "cell_type": "code",
   "execution_count": 15,
   "id": "f59d76a7",
   "metadata": {},
   "outputs": [
    {
     "name": "stdout",
     "output_type": "stream",
     "text": [
      "True\n",
      "True\n"
     ]
    }
   ],
   "source": [
    "string1 = \"Hello World!\"\n",
    "string2 = \"The quick brown fox jumps over the lazy dog.\"\n",
    "print(contains_special_char(string1)) \n",
    "print(contains_special_char(string2)) "
   ]
  }
 ],
 "metadata": {
  "kernelspec": {
   "display_name": "Python 3 (ipykernel)",
   "language": "python",
   "name": "python3"
  },
  "language_info": {
   "codemirror_mode": {
    "name": "ipython",
    "version": 3
   },
   "file_extension": ".py",
   "mimetype": "text/x-python",
   "name": "python",
   "nbconvert_exporter": "python",
   "pygments_lexer": "ipython3",
   "version": "3.11.1"
  }
 },
 "nbformat": 4,
 "nbformat_minor": 5
}
